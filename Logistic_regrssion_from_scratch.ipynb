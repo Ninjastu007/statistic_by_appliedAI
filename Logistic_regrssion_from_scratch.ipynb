{
  "nbformat": 4,
  "nbformat_minor": 0,
  "metadata": {
    "colab": {
      "name": "Logistic_regrssion_from_scratch.ipynb",
      "provenance": [],
      "authorship_tag": "ABX9TyOUPNoBCiQz3887CRb9TW2K",
      "include_colab_link": true
    },
    "kernelspec": {
      "name": "python3",
      "display_name": "Python 3"
    },
    "language_info": {
      "name": "python"
    }
  },
  "cells": [
    {
      "cell_type": "markdown",
      "metadata": {
        "id": "view-in-github",
        "colab_type": "text"
      },
      "source": [
        "<a href=\"https://colab.research.google.com/github/Ninjastu007/statistic_by_appliedAI/blob/main/Logistic_regrssion_from_scratch.ipynb\" target=\"_parent\"><img src=\"https://colab.research.google.com/assets/colab-badge.svg\" alt=\"Open In Colab\"/></a>"
      ]
    },
    {
      "cell_type": "code",
      "metadata": {
        "id": "dLXv-ceEekvg"
      },
      "source": [
        "import pandas as pd \n",
        "import numpy as np \n",
        "import matplotlib.pyplot as plt \n"
      ],
      "execution_count": null,
      "outputs": []
    },
    {
      "cell_type": "code",
      "metadata": {
        "id": "bsMOi7luc1qR"
      },
      "source": [
        "# creating the dataset\n",
        "from sklearn.datasets import make_classification\n",
        "import numpy as np\n",
        "X, y = make_classification(n_samples=100, n_features=2, n_informative=1,n_redundant=0,\n",
        "                           n_classes=2, n_clusters_per_class=1, random_state=41,hypercube=False,class_sep=20)"
      ],
      "execution_count": null,
      "outputs": []
    },
    {
      "cell_type": "code",
      "metadata": {
        "colab": {
          "base_uri": "https://localhost:8080/"
        },
        "id": "jAXIb_HBc69S",
        "outputId": "e2a8380e-8611-4d7e-b715-fa054e0c2a16"
      },
      "source": [
        "X.shape , y.shape "
      ],
      "execution_count": null,
      "outputs": [
        {
          "output_type": "execute_result",
          "data": {
            "text/plain": [
              "((100, 2), (100,))"
            ]
          },
          "metadata": {},
          "execution_count": 70
        }
      ]
    },
    {
      "cell_type": "code",
      "metadata": {
        "colab": {
          "base_uri": "https://localhost:8080/"
        },
        "id": "R3S_HTY_dFpP",
        "outputId": "ed0754bc-9826-4cc1-988b-45f9930a820d"
      },
      "source": [
        "# How the daaa look like \n",
        "X[ : 5 , ]   # row , column "
      ],
      "execution_count": null,
      "outputs": [
        {
          "output_type": "execute_result",
          "data": {
            "text/plain": [
              "array([[ 0.51123145, -0.11697552],\n",
              "       [ 0.06316371, -0.73115232],\n",
              "       [-0.0425064 , -0.7081059 ],\n",
              "       [-3.2891569 , -2.01199214],\n",
              "       [ 0.1111445 ,  1.63493163]])"
            ]
          },
          "metadata": {},
          "execution_count": 71
        }
      ]
    },
    {
      "cell_type": "code",
      "metadata": {
        "colab": {
          "base_uri": "https://localhost:8080/"
        },
        "id": "FcRFPXo_d1bQ",
        "outputId": "92ed099a-0c6d-441c-e162-2e56224b4101"
      },
      "source": [
        "y[ : 5 , ]"
      ],
      "execution_count": null,
      "outputs": [
        {
          "output_type": "execute_result",
          "data": {
            "text/plain": [
              "array([1, 1, 1, 0, 1])"
            ]
          },
          "metadata": {},
          "execution_count": 72
        }
      ]
    },
    {
      "cell_type": "code",
      "metadata": {
        "id": "lAMtf4fRePnM"
      },
      "source": [
        "# let's define the activation function \n",
        "\n",
        "def sigmoid(z):\n",
        "  return 1 / ( 1 +  np.exp(-z) )\n",
        "\n",
        "\n",
        "# # driver code \n",
        "# sigmoid(-50)"
      ],
      "execution_count": null,
      "outputs": []
    },
    {
      "cell_type": "code",
      "metadata": {
        "colab": {
          "base_uri": "https://localhost:8080/"
        },
        "id": "rbtCbg89fOhI",
        "outputId": "365ec2c4-36ab-41bd-c24e-ee3f314ea36f"
      },
      "source": [
        "# initialize the weights \n",
        "# columns = 2 \n",
        "# for intercept we need to add one col to dataset \n",
        "\n",
        "inserted  = np.insert( X , 0 , 1.0 , axis= 1 )\n",
        "print(inserted .shape ,inserted[:1 , ])\n"
      ],
      "execution_count": null,
      "outputs": [
        {
          "output_type": "stream",
          "name": "stdout",
          "text": [
            "(100, 3) [[ 1.          0.51123145 -0.11697552]]\n"
          ]
        }
      ]
    },
    {
      "cell_type": "code",
      "metadata": {
        "colab": {
          "base_uri": "https://localhost:8080/"
        },
        "id": "f7t8FWakfzYU",
        "outputId": "8f6aa9e7-f3e9-4edb-a079-8cce114596ce"
      },
      "source": [
        "weights = np.ones(X.shape[1])\n",
        "weights\n"
      ],
      "execution_count": null,
      "outputs": [
        {
          "output_type": "execute_result",
          "data": {
            "text/plain": [
              "array([1., 1.])"
            ]
          },
          "metadata": {},
          "execution_count": 75
        }
      ]
    },
    {
      "cell_type": "code",
      "metadata": {
        "id": "30LCCUq9gMmo"
      },
      "source": [
        "def gradient_descent(X, y , no_iterations , learning_rate ):\n",
        "  X = np.insert(X , 0 , 1  , axis=1  )\n",
        "  weights = np.ones(X.shape[1])\n",
        "  # predict the Output \n",
        "  for i in range(0 ,  no_iterations ):\n",
        "    y_hat = sigmoid(np.dot(X , weights )) \n",
        "    weights = weights + learning_rate * (np.dot((y-y_hat),X)/X.shape[0])     # w_new =  w + (1/m )*  lr * dl/dx \n",
        "  # return slopes , bias/intercept \n",
        "  return weights[1:],weights[0]"
      ],
      "execution_count": null,
      "outputs": []
    },
    {
      "cell_type": "code",
      "metadata": {
        "id": "a_cgmE5fiBJE"
      },
      "source": [
        "def gd(X,y):\n",
        "    \n",
        "    X = np.insert(X,0,1,axis=1)\n",
        "    weights = np.ones(X.shape[1])\n",
        "    lr = 0.5\n",
        "    for i in range(5000):\n",
        "        y_hat = sigmoid(np.dot(X,weights))\n",
        "        weights = weights + lr*(np.dot((y-y_hat),X)/X.shape[0])\n",
        "        \n",
        "    return weights[1:],weights[0]\n",
        "        "
      ],
      "execution_count": null,
      "outputs": []
    },
    {
      "cell_type": "code",
      "metadata": {
        "colab": {
          "base_uri": "https://localhost:8080/"
        },
        "id": "HbENZguEi3Lt",
        "outputId": "85c4e5e6-1675-4831-9c75-f37a17990b8d"
      },
      "source": [
        "gd(X,y)"
      ],
      "execution_count": null,
      "outputs": [
        {
          "output_type": "execute_result",
          "data": {
            "text/plain": [
              "(array([4.83926872, 0.21182255]), 5.83338864905325)"
            ]
          },
          "metadata": {},
          "execution_count": 88
        }
      ]
    },
    {
      "cell_type": "code",
      "metadata": {
        "colab": {
          "base_uri": "https://localhost:8080/"
        },
        "id": "lmYSxjRWi4-w",
        "outputId": "ebcd4d81-2414-4bae-c926-3455995c39ef"
      },
      "source": [
        "coef_ , intercept_ = gradient_descent( X , y ,no_iterations=  5000 , learning_rate=0.01)\n",
        "print(coef_ )\n",
        "print(intercept_)"
      ],
      "execution_count": null,
      "outputs": [
        {
          "output_type": "stream",
          "name": "stdout",
          "text": [
            "[2.48614741 0.18952951]\n",
            "2.3001101852133363\n"
          ]
        }
      ]
    },
    {
      "cell_type": "code",
      "metadata": {
        "id": "snBRmX3yjBaj"
      },
      "source": [
        "# prediction and result \n",
        "y_true = y.copy()\n",
        "x = X.copy() \n",
        "m = -(coef_[0]/coef_[1])\n",
        "b = -(intercept_/coef_[1])"
      ],
      "execution_count": null,
      "outputs": []
    },
    {
      "cell_type": "code",
      "metadata": {
        "id": "fjhHoWbXlL4F"
      },
      "source": [
        "# x_input = np.linspace(-3,3,100)\n",
        "# y_input = m1*x_input + b1"
      ],
      "execution_count": null,
      "outputs": []
    },
    {
      "cell_type": "code",
      "metadata": {
        "id": "1RhtOhwjjua9"
      },
      "source": [
        "x_input1 = np.linspace(-3,3,100)\n",
        "y_input1 = m*x_input1 + b"
      ],
      "execution_count": null,
      "outputs": []
    },
    {
      "cell_type": "code",
      "metadata": {
        "colab": {
          "base_uri": "https://localhost:8080/",
          "height": 395
        },
        "id": "h9F-EN6Qj7nQ",
        "outputId": "3c8cea9d-5c4b-4e80-acfe-0ecb8e52d99f"
      },
      "source": [
        "plt.figure(figsize=(10,6))\n",
        "# plt.plot(x_input,y_input,color='red',linewidth=3)\n",
        "plt.plot(x_input1,y_input1,color='black',linewidth=3)\n",
        "plt.scatter(X[:,0],X[:,1],c=y,cmap='winter',s=100)\n",
        "plt.ylim(-3,2)"
      ],
      "execution_count": null,
      "outputs": [
        {
          "output_type": "execute_result",
          "data": {
            "text/plain": [
              "(-3.0, 2.0)"
            ]
          },
          "metadata": {},
          "execution_count": 107
        },
        {
          "output_type": "display_data",
          "data": {
            "image/png": "[encoded data removed]",
            "text/plain": [
              "<Figure size 720x432 with 1 Axes>"
            ]
          },
          "metadata": {
            "needs_background": "light"
          }
        }
      ]
    },
    {
      "cell_type": "code",
      "metadata": {
        "id": "6LKzBZUFk99i"
      },
      "source": [
        ""
      ],
      "execution_count": null,
      "outputs": []
    }
  ]
}